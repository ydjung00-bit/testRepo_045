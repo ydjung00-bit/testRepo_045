{
 "cells": [
  {
   "cell_type": "markdown",
   "id": "76f5af17",
   "metadata": {},
   "source": [
    "## 2025-09-18"
   ]
  },
  {
   "cell_type": "code",
   "execution_count": 1,
   "id": "0445ac31",
   "metadata": {},
   "outputs": [
    {
     "name": "stdout",
     "output_type": "stream",
     "text": [
      "Hello VSCode\n"
     ]
    }
   ],
   "source": [
    "print(\"Hello VSCode\")"
   ]
  },
  {
   "cell_type": "code",
   "execution_count": 3,
   "id": "26110f7a",
   "metadata": {},
   "outputs": [
    {
     "name": "stdout",
     "output_type": "stream",
     "text": [
      "안녕안녕안녕안녕안녕\n"
     ]
    }
   ],
   "source": [
    "print(\"안녕\"*5)"
   ]
  }
 ],
 "metadata": {
  "kernelspec": {
   "display_name": "Python 3",
   "language": "python",
   "name": "python3"
  },
  "language_info": {
   "codemirror_mode": {
    "name": "ipython",
    "version": 3
   },
   "file_extension": ".py",
   "mimetype": "text/x-python",
   "name": "python",
   "nbconvert_exporter": "python",
   "pygments_lexer": "ipython3",
   "version": "3.10.11"
  }
 },
 "nbformat": 4,
 "nbformat_minor": 5
}
